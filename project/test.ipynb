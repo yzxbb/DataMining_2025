{
 "cells": [
  {
   "cell_type": "code",
   "execution_count": null,
   "id": "1a2fc361",
   "metadata": {},
   "outputs": [],
   "source": []
  },
  {
   "cell_type": "code",
   "execution_count": 2,
   "id": "0734ffec",
   "metadata": {},
   "outputs": [
    {
     "name": "stdout",
     "output_type": "stream",
     "text": [
      "\n",
      "    ========== 分析结果 ==========\n",
      "    总数据条目：70,198\n",
      "    唯一值数量：15\n",
      "    \n",
      "    前5个常见值：\n",
      "    original_value       \n",
      "0-20000         43485\n",
      "0-0              9366\n",
      "20000-50000      7636\n",
      "50000-100000     3583\n",
      "100000-200000    2374\n",
      "    \n",
      "    完整结果已保存：\n",
      "    - 数据文件：project/results/owners_analysis/owner_value_distribution.csv\n",
      "    - 可视化图表：project/results/owners_analysis/owner_value_distribution.png\n",
      "    \n"
     ]
    },
    {
     "data": {
      "text/plain": [
       "<Figure size 1200x800 with 0 Axes>"
      ]
     },
     "metadata": {},
     "output_type": "display_data"
    }
   ],
   "source": [
    "import json\n",
    "import pandas as pd\n",
    "import matplotlib.pyplot as plt\n",
    "from collections import Counter\n",
    "\n",
    "# 配置参数\n",
    "DATA_PATH = \"/home/zym/DataMining/project/data/steam_games.ndjson\"\n",
    "SAVE_DIR = \"project/results/owners_analysis\"\n",
    "OS_MKDIR = True  # 是否自动创建目录\n",
    "\n",
    "\n",
    "def main():\n",
    "    # 创建保存目录\n",
    "    if OS_MKDIR:\n",
    "        import os\n",
    "\n",
    "        os.makedirs(SAVE_DIR, exist_ok=True)\n",
    "\n",
    "    # 加载数据\n",
    "    raw_values = []\n",
    "    with open(DATA_PATH, \"r\", encoding=\"utf-8\") as f:\n",
    "        for line in f:\n",
    "            try:\n",
    "                game = json.loads(line)\n",
    "                value = game.get(\"estimated_owners\")\n",
    "                if isinstance(value, str) and \"-\" in value:\n",
    "                    # 标准化格式：移除空格和逗号\n",
    "                    cleaned = value.replace(\" \", \"\").replace(\",\", \"\")\n",
    "                    raw_values.append(cleaned)\n",
    "                elif value:  # 处理异常格式\n",
    "                    raw_values.append(f\"INVALID: {value}\")\n",
    "                else:  # 空值处理\n",
    "                    raw_values.append(\"MISSING\")\n",
    "            except (json.JSONDecodeError, KeyError):\n",
    "                continue\n",
    "\n",
    "    # 统计唯一值\n",
    "    counter = Counter(raw_values)\n",
    "    total_records = len(raw_values)\n",
    "    unique_count = len(counter)\n",
    "\n",
    "    # 生成统计表格\n",
    "    df_stats = pd.DataFrame.from_dict(counter, orient=\"index\", columns=[\"count\"])\n",
    "    df_stats.index.name = \"original_value\"\n",
    "    df_stats = df_stats.sort_values(\"count\", ascending=False)\n",
    "\n",
    "    # 保存结果\n",
    "    stats_file = f\"{SAVE_DIR}/owner_value_distribution.csv\"\n",
    "    df_stats.to_csv(stats_file, encoding=\"utf-8-sig\")  # 支持中文编码\n",
    "\n",
    "    # 生成可视化\n",
    "    plt.figure(figsize=(12, 8))\n",
    "    df_stats.head(20).plot(kind=\"barh\", legend=False)  # 显示前20个常见值\n",
    "    plt.title(\n",
    "        f\"Original Value Distribution of estimated_owners\\n(Total {unique_count} unique values)\"\n",
    "    )\n",
    "    plt.xlabel(\"Occurrence Count\")\n",
    "    plt.ylabel(\"Original Value Pattern\")\n",
    "    plt.gca().invert_yaxis()  # 降序排列\n",
    "    plot_file = f\"{SAVE_DIR}/owner_value_distribution.png\"\n",
    "    plt.savefig(plot_file, dpi=300, bbox_inches=\"tight\")\n",
    "    plt.close()\n",
    "\n",
    "    # 打印结果摘要\n",
    "    print(\n",
    "        f\"\"\"\n",
    "    ========== 分析结果 ==========\n",
    "    总数据条目：{total_records:,}\n",
    "    唯一值数量：{unique_count:,}\n",
    "    \n",
    "    前5个常见值：\n",
    "    {df_stats.head(5).to_string(header=False)}\n",
    "    \n",
    "    完整结果已保存：\n",
    "    - 数据文件：{stats_file}\n",
    "    - 可视化图表：{plot_file}\n",
    "    \"\"\"\n",
    "    )\n",
    "\n",
    "\n",
    "if __name__ == \"__main__\":\n",
    "    main()"
   ]
  }
 ],
 "metadata": {
  "kernelspec": {
   "display_name": "Python 3",
   "language": "python",
   "name": "python3"
  },
  "language_info": {
   "codemirror_mode": {
    "name": "ipython",
    "version": 3
   },
   "file_extension": ".py",
   "mimetype": "text/x-python",
   "name": "python",
   "nbconvert_exporter": "python",
   "pygments_lexer": "ipython3",
   "version": "3.12.9"
  }
 },
 "nbformat": 4,
 "nbformat_minor": 5
}
